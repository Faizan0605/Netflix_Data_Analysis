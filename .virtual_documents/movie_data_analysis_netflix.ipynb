# Objectives 
# 1 what is the most drequest genre of movies released on netflix?
# 2 what genres has the highest votes in vote_avg column(Which genre has the highest vote)?
# 3 what movie got the highest popularity? what's its genre?
# 4 what movie got the lowest popularity? what's its genre?
# 5 which year has the most filmmed movies?


import numpy as np 
import pandas as pd
import matplotlib.pyplot as plt
import seaborn as sns


df = pd.read_csv('mymoviedb.csv', lineterminator = '\n')


df.head()


df.info()


df.duplicated().sum()


df.describe()


 # • Exploration Summary
 # • we have a dataframe consisting of 9827 rows and 9 columns.
 # • our dataset looks a bit tidy with no NaNs nor duplicated values.
 # • Release_Date column needs to be casted into date time and to extract only the Overview, Original_Languege and Poster-Url wouldn't be so useful during analys.
 # • there is noticable outliers in Popularity column.
 # • Vote_Average bettter be categorised for proper analysis.
 # • Genre column has comma saperated values and white spaces that needs to be hand





df['Release_Date'] = pd.to_datetime(df['Release_Date'])

df['Release_Date'].dtypes


df['Release_Date'] = df['Release_Date'].dt.year #data type of Release_Date chaged to int and date and months are removed


df['Release_Date'].dtypes



df.head()





cols = ['Overview', 'Poster_Url', 'Original_Language']


df.drop(cols, axis=1, inplace=True)


df.columns


df.head()





df['Vote_Average'].describe()


def categorize_col(df, col, labels):
    edges = [df[col].describe()['min'],
            df[col].describe()['25%'],
            df[col].describe()['50%'],
            df[col].describe()['75%'],
            df[col].describe()['max']]

    df[col] = pd.cut(df[col], edges, labels = labels, duplicates = 'drop')
    return df
    


labels = ['not_popular' , 'below_avg', 'average', 'pupular']


categorize_col(df, 'Vote_Average', labels)

df['Vote_Average'].unique()


df.head()


df['Vote_Average'].value_counts()


df.dropna(inplace=True)


df.isna().sum()





df['Genre'] = df['Genre'].str.split(', ')
df = df.explode('Genre').reset_index(drop=True)
df.head()


df['Genre'] = df['Genre'].astype('category')
df['Genre'].dtypes


df.info()


df.nunique()


df.head()








df['Genre'].describe()


sns.set_style('whitegrid')
sns.catplot(y='Genre' , data = df, kind = 'count',
            order = df['Genre'].value_counts().index, color='#4287f5')
plt.title('Genre column distribution')
plt.show()





sns.catplot(y = 'Vote_Average', data = df, kind = 'count', 
            order = df['Vote_Average'].value_counts().index,
            color = '#4287f5')
plt.title('Votes distribution')
plt.show()





df[df['Popularity'] == df['Popularity'].max()]





df[df['Popularity'] == df['Popularity'].min()]





df['Release_Date'].hist()
plt.title('Release_Date column distribution')
plt.show()







